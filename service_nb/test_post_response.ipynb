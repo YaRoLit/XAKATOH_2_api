{
 "cells": [
  {
   "cell_type": "markdown",
   "metadata": {},
   "source": [
    "# Импорты (нужно установить эти библиотеки)"
   ]
  },
  {
   "cell_type": "code",
   "execution_count": 1,
   "metadata": {},
   "outputs": [],
   "source": [
    "import numpy as np\n",
    "import pandas as pd\n",
    "import requests\n",
    "import json"
   ]
  },
  {
   "cell_type": "markdown",
   "metadata": {},
   "source": [
    "# Тестовый фрейм (одна строка, которая передается как post request)"
   ]
  },
  {
   "cell_type": "code",
   "execution_count": 2,
   "metadata": {},
   "outputs": [],
   "source": [
    "test_request = {\n",
    "    'BirthDate':            np.NaN,\n",
    "    'education':            'Высшее - специалист',\n",
    "    'employment_status':    'Собственное дело',\n",
    "    'Value':                '10 и более лет',\n",
    "    'JobStartDate':         '2012-10-01',\n",
    "    'Position':             'Просто умный человек',\n",
    "    'MonthProfit':          150000.0,\n",
    "    'MonthExpense':         '22500.0', \n",
    "    'Gender':               'sdfas', #'0',\n",
    "    'Family_status':        'Никогда в браке не состоял(а)',\n",
    "    'ChildCount':           '0',\n",
    "    'SNILS':                '0',\n",
    "    'Merch_code':           '15',\n",
    "    'Loan_amount':          '48000.0',\n",
    "    'Loan_term':            '6',\n",
    "    'Goods_category':       'Medical_services'\n",
    "}"
   ]
  },
  {
   "cell_type": "markdown",
   "metadata": {},
   "source": [
    "# Образец Get и Post запроса"
   ]
  },
  {
   "cell_type": "code",
   "execution_count": 3,
   "metadata": {},
   "outputs": [
    {
     "name": "stdout",
     "output_type": "stream",
     "text": [
      "200 OK\n"
     ]
    }
   ],
   "source": [
    "r = requests.get('http://127.0.0.1:5000/')\n",
    "print(r.status_code, r.reason)"
   ]
  },
  {
   "cell_type": "code",
   "execution_count": 15,
   "metadata": {},
   "outputs": [
    {
     "name": "stdout",
     "output_type": "stream",
     "text": [
      "200 OK\n"
     ]
    }
   ],
   "source": [
    "json_data = json.dumps(test_request).encode('utf8')\n",
    "r = requests.post(\n",
    "    'http://127.0.0.1:5000/AskOraqul/', data=json_data)\n",
    "print(r.status_code, r.reason)"
   ]
  },
  {
   "cell_type": "markdown",
   "metadata": {},
   "source": [
    "# Post запросы в цикле с перебором строк из загружаемого датафрейма"
   ]
  },
  {
   "cell_type": "code",
   "execution_count": 5,
   "metadata": {},
   "outputs": [
    {
     "name": "stdout",
     "output_type": "stream",
     "text": [
      "<class 'pandas.core.frame.DataFrame'>\n",
      "Index: 6603 entries, 1 to 8787\n",
      "Data columns (total 16 columns):\n",
      " #   Column             Non-Null Count  Dtype  \n",
      "---  ------             --------------  -----  \n",
      " 0   BirthDate          6603 non-null   object \n",
      " 1   education          6603 non-null   object \n",
      " 2   employment_status  6603 non-null   object \n",
      " 3   Value              6523 non-null   object \n",
      " 4   JobStartDate       6494 non-null   object \n",
      " 5   Position           6494 non-null   object \n",
      " 6   MonthProfit        6603 non-null   int64  \n",
      " 7   MonthExpense       6603 non-null   int64  \n",
      " 8   Gender             6566 non-null   float64\n",
      " 9   Family_status      6566 non-null   object \n",
      " 10  ChildCount         6566 non-null   float64\n",
      " 11  SNILS              6603 non-null   int64  \n",
      " 12  Merch_code         6603 non-null   int64  \n",
      " 13  Loan_amount        6603 non-null   int64  \n",
      " 14  Loan_term          6603 non-null   int64  \n",
      " 15  Goods_category     6603 non-null   object \n",
      "dtypes: float64(2), int64(6), object(8)\n",
      "memory usage: 877.0+ KB\n"
     ]
    }
   ],
   "source": [
    "# Загружаем тестовую выборку\n",
    "df = pd.read_csv(\n",
    "    filepath_or_buffer='../data/api_test_df.csv',\n",
    "    sep=';',\n",
    "    index_col='SkillFactory_Id')\n",
    "banks = ['BankA_decision',\n",
    "             'BankB_decision',\n",
    "             'BankC_decision',\n",
    "             'BankD_decision',\n",
    "             'BankE_decision']\n",
    "df = df.drop(banks, axis='columns')\n",
    "df = df.dropna(how='all')\n",
    "df.rename(columns={\n",
    "    \"employment status\": \"employment_status\",\n",
    "    \"Family status\": \"Family_status\"}, \n",
    "    inplace=True)\n",
    "df.info()"
   ]
  },
  {
   "cell_type": "code",
   "execution_count": 6,
   "metadata": {},
   "outputs": [
    {
     "name": "stdout",
     "output_type": "stream",
     "text": [
      "200 OK\n",
      "200 OK\n",
      "200 OK\n",
      "200 OK\n",
      "200 OK\n",
      "200 OK\n",
      "200 OK\n",
      "200 OK\n",
      "200 OK\n",
      "200 OK\n",
      "200 OK\n",
      "200 OK\n",
      "200 OK\n",
      "200 OK\n",
      "200 OK\n",
      "200 OK\n",
      "200 OK\n",
      "200 OK\n",
      "200 OK\n",
      "200 OK\n",
      "200 OK\n",
      "200 OK\n",
      "200 OK\n",
      "200 OK\n",
      "200 OK\n",
      "200 OK\n",
      "200 OK\n",
      "200 OK\n",
      "200 OK\n",
      "200 OK\n",
      "200 OK\n",
      "200 OK\n",
      "200 OK\n",
      "200 OK\n",
      "200 OK\n",
      "200 OK\n",
      "200 OK\n",
      "200 OK\n",
      "200 OK\n",
      "200 OK\n",
      "200 OK\n",
      "200 OK\n",
      "200 OK\n",
      "200 OK\n",
      "200 OK\n",
      "200 OK\n",
      "200 OK\n",
      "200 OK\n",
      "200 OK\n",
      "200 OK\n"
     ]
    }
   ],
   "source": [
    "# Отправляем произвольные 50 строк из загруженного датафрейма\n",
    "frame_for_send = df.sample(50).to_dict('records')\n",
    "for i in range(len(frame_for_send)):\n",
    "    #json_data = json.dumps(frame_for_send[i]).encode('utf8')\n",
    "    json_data = df.iloc[i].to_json().encode('utf8')\n",
    "    r = requests.post(\n",
    "        'http://127.0.0.1:5000/AskOraqul/', data=json_data)\n",
    "    print(r.status_code, r.reason)\n"
   ]
  }
 ],
 "metadata": {
  "kernelspec": {
   "display_name": "Python 3",
   "language": "python",
   "name": "python3"
  },
  "language_info": {
   "codemirror_mode": {
    "name": "ipython",
    "version": 3
   },
   "file_extension": ".py",
   "mimetype": "text/x-python",
   "name": "python",
   "nbconvert_exporter": "python",
   "pygments_lexer": "ipython3",
   "version": "3.11.5"
  }
 },
 "nbformat": 4,
 "nbformat_minor": 2
}
