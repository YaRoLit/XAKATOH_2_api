{
 "cells": [
  {
   "cell_type": "markdown",
   "metadata": {},
   "source": [
    "# Импорты (нужно установить эти библиотеки)"
   ]
  },
  {
   "cell_type": "code",
   "execution_count": 1,
   "metadata": {},
   "outputs": [],
   "source": [
    "import numpy as np\n",
    "import pandas as pd\n",
    "import requests\n",
    "import json"
   ]
  },
  {
   "cell_type": "markdown",
   "metadata": {},
   "source": [
    "# Тестовый фрейм (одна строка, которая передается как post request)"
   ]
  },
  {
   "cell_type": "code",
   "execution_count": 2,
   "metadata": {},
   "outputs": [],
   "source": [
    "test_request = {\n",
    "    'BirthDate':            '1980-03-20',\n",
    "    'education':            'Высшее - специалист',\n",
    "    'employment_status':    'Собственное дело',\n",
    "    'Value':                '10 и более лет',\n",
    "    'JobStartDate':         '2012-10-01',\n",
    "    'Position':             'Просто умный человек',\n",
    "    #'MonthProfit':          150000.0,\n",
    "    'MonthExpense':         '22500.0', \n",
    "    'Gender':               'sdfas', #'0',\n",
    "    'Family_status':        'Никогда в браке не состоял(а)',\n",
    "    'ChildCount':           '0',\n",
    "    'MonthProfit':          np.nan,\n",
    "    'SNILS':                '0',\n",
    "    'Merch_code':           '15',\n",
    "    'Loan_amount':          '48000.0',\n",
    "    'Loan_term':            '6',\n",
    "    'Goods_category':       'Medical_services'\n",
    "}"
   ]
  },
  {
   "cell_type": "markdown",
   "metadata": {},
   "source": [
    "# Образец Get и Post запроса"
   ]
  },
  {
   "cell_type": "code",
   "execution_count": 3,
   "metadata": {},
   "outputs": [
    {
     "name": "stdout",
     "output_type": "stream",
     "text": [
      "200 OK\n"
     ]
    }
   ],
   "source": [
    "r = requests.get('http://127.0.0.1:5000/')\n",
    "print(r.status_code, r.reason)"
   ]
  },
  {
   "cell_type": "code",
   "execution_count": 4,
   "metadata": {},
   "outputs": [
    {
     "name": "stdout",
     "output_type": "stream",
     "text": [
      "200 OK\n",
      "0.59 0.57 0.54 0.55 0.47\n"
     ]
    }
   ],
   "source": [
    "json_data = json.dumps(test_request).encode('utf8')\n",
    "r = requests.post(\n",
    "    #'http://158.160.135.101:5000/AskOraqul/', data=json_data)\n",
    "    'http://127.0.0.1:5000/AskOraqul/', data=json_data)\n",
    "print(r.status_code, r.reason)\n",
    "resp = r.content.decode()[1:-1].split(',')\n",
    "BankA_decision = round(float(resp[0]), 2)\n",
    "BankB_decision = round(float(resp[1]), 2)\n",
    "BankC_decision = round(float(resp[2]), 2)\n",
    "BankD_decision = round(float(resp[3]), 2)\n",
    "BankE_decision = round(float(resp[4]), 2)\n",
    "print(BankA_decision, BankB_decision, BankC_decision, BankD_decision, BankE_decision)"
   ]
  },
  {
   "cell_type": "markdown",
   "metadata": {},
   "source": [
    "# Post запросы в цикле с перебором строк из загружаемого датафрейма"
   ]
  },
  {
   "cell_type": "code",
   "execution_count": 5,
   "metadata": {},
   "outputs": [
    {
     "name": "stdout",
     "output_type": "stream",
     "text": [
      "<class 'pandas.core.frame.DataFrame'>\n",
      "Index: 6603 entries, 1 to 8787\n",
      "Data columns (total 16 columns):\n",
      " #   Column             Non-Null Count  Dtype  \n",
      "---  ------             --------------  -----  \n",
      " 0   BirthDate          6603 non-null   object \n",
      " 1   education          6603 non-null   object \n",
      " 2   employment_status  6603 non-null   object \n",
      " 3   Value              6523 non-null   object \n",
      " 4   JobStartDate       6494 non-null   object \n",
      " 5   Position           6494 non-null   object \n",
      " 6   MonthProfit        6603 non-null   int64  \n",
      " 7   MonthExpense       6603 non-null   int64  \n",
      " 8   Gender             6566 non-null   float64\n",
      " 9   Family_status      6566 non-null   object \n",
      " 10  ChildCount         6566 non-null   float64\n",
      " 11  SNILS              6603 non-null   int64  \n",
      " 12  Merch_code         6603 non-null   int64  \n",
      " 13  Loan_amount        6603 non-null   int64  \n",
      " 14  Loan_term          6603 non-null   int64  \n",
      " 15  Goods_category     6603 non-null   object \n",
      "dtypes: float64(2), int64(6), object(8)\n",
      "memory usage: 877.0+ KB\n"
     ]
    }
   ],
   "source": [
    "# Загружаем тестовую выборку\n",
    "df = pd.read_csv(\n",
    "    filepath_or_buffer='../data/model_val.csv',\n",
    "    sep=';',\n",
    "    index_col='SkillFactory_Id')\n",
    "banks = ['BankA_decision',\n",
    "             'BankB_decision',\n",
    "             'BankC_decision',\n",
    "             'BankD_decision',\n",
    "             'BankE_decision']\n",
    "df = df.drop(banks, axis='columns')\n",
    "df = df.dropna(how='all')\n",
    "df.rename(columns={\n",
    "    \"employment status\": \"employment_status\",\n",
    "    \"Family status\": \"Family_status\"}, \n",
    "    inplace=True)\n",
    "df.info()"
   ]
  },
  {
   "cell_type": "code",
   "execution_count": 6,
   "metadata": {},
   "outputs": [
    {
     "name": "stdout",
     "output_type": "stream",
     "text": [
      "200 OK\n",
      "0.68 0.85 0.76 0.66 0.76\n",
      "200 OK\n",
      "0.65 0.65 0.78 0.43 0.66\n",
      "200 OK\n",
      "0.29 0.47 0.56 0.72 0.76\n",
      "200 OK\n",
      "0.6 0.4 0.67 0.59 0.89\n",
      "200 OK\n",
      "0.28 0.65 0.56 0.68 0.73\n",
      "200 OK\n",
      "0.95 0.93 0.73 0.89 0.96\n",
      "200 OK\n",
      "0.61 0.41 0.5 0.53 0.5\n",
      "200 OK\n",
      "0.88 0.37 0.88 0.76 0.3\n",
      "200 OK\n",
      "0.95 0.51 0.98 0.62 0.96\n",
      "200 OK\n",
      "0.43 0.44 0.32 0.31 0.65\n",
      "200 OK\n",
      "0.5 0.74 0.87 0.71 0.93\n",
      "200 OK\n",
      "0.24 0.68 0.49 0.71 0.69\n",
      "200 OK\n",
      "0.46 0.66 0.5 0.59 0.83\n",
      "200 OK\n",
      "0.41 0.51 0.55 0.46 0.58\n",
      "200 OK\n",
      "0.27 0.72 0.43 0.67 0.72\n",
      "200 OK\n",
      "0.37 0.31 0.54 0.49 0.7\n",
      "200 OK\n",
      "0.44 0.67 0.69 0.47 0.66\n",
      "200 OK\n",
      "0.48 0.43 0.23 0.52 0.74\n",
      "200 OK\n",
      "0.68 0.67 0.82 0.16 0.52\n",
      "200 OK\n",
      "0.64 0.87 0.69 0.42 0.64\n",
      "200 OK\n",
      "0.34 0.57 0.59 0.53 0.44\n",
      "200 OK\n",
      "0.55 0.62 0.52 0.59 0.95\n",
      "200 OK\n",
      "0.57 0.73 0.72 0.53 0.47\n",
      "200 OK\n",
      "0.34 0.67 0.82 0.55 0.5\n",
      "200 OK\n",
      "0.59 0.35 0.41 0.8 0.7\n",
      "200 OK\n",
      "0.54 0.51 0.55 0.6 0.92\n",
      "200 OK\n",
      "0.48 0.7 0.82 0.74 0.67\n",
      "200 OK\n",
      "0.59 0.38 0.37 0.54 0.77\n",
      "200 OK\n",
      "0.53 0.58 0.56 0.52 0.72\n",
      "200 OK\n",
      "0.46 0.49 0.63 0.57 0.67\n",
      "200 OK\n",
      "0.55 0.68 0.77 0.55 0.9\n",
      "200 OK\n",
      "0.45 0.45 0.6 0.88 0.72\n",
      "200 OK\n",
      "0.53 0.43 0.5 0.58 0.53\n",
      "200 OK\n",
      "0.57 0.66 0.58 0.52 0.71\n",
      "200 OK\n",
      "0.71 0.53 0.57 0.7 0.3\n",
      "200 OK\n",
      "0.69 0.62 0.69 0.63 0.74\n",
      "200 OK\n",
      "0.44 0.48 0.47 0.64 0.5\n",
      "200 OK\n",
      "0.49 0.57 0.42 0.64 0.32\n",
      "200 OK\n",
      "0.41 0.67 0.49 0.79 0.7\n",
      "200 OK\n",
      "0.4 0.76 0.63 0.81 0.59\n",
      "200 OK\n",
      "0.59 0.61 0.22 0.62 0.73\n",
      "200 OK\n",
      "0.52 0.83 0.38 0.61 0.65\n",
      "200 OK\n",
      "0.89 0.86 0.86 0.61 0.74\n",
      "200 OK\n",
      "0.7 0.91 0.54 0.44 0.37\n",
      "200 OK\n",
      "0.34 0.55 0.49 0.65 0.88\n",
      "200 OK\n",
      "0.71 0.87 0.26 0.9 0.61\n",
      "200 OK\n",
      "0.5 0.33 0.18 1.0 0.99\n",
      "200 OK\n",
      "0.49 0.63 0.76 0.68 0.75\n",
      "200 OK\n",
      "0.72 0.6 0.33 0.45 0.64\n",
      "200 OK\n",
      "0.55 0.51 0.78 0.73 0.81\n"
     ]
    }
   ],
   "source": [
    "# Отправляем произвольные 50 строк из загруженного датафрейма\n",
    "frame_for_send = df.sample(50).to_dict('records')\n",
    "for i in range(len(frame_for_send)):\n",
    "    #json_data = json.dumps(frame_for_send[i]).encode('utf8')\n",
    "    json_data = df.iloc[i].to_json().encode('utf8')\n",
    "    r = requests.post(\n",
    "        #'http://158.160.135.101:5000/AskOraqul/', data=json_data)\n",
    "        'http://127.0.0.1:5000/AskOraqul/', data=json_data)\n",
    "    print(r.status_code, r.reason)\n",
    "    resp = r.content.decode()[1:-1].split(',')\n",
    "    BankA_decision = round(float(resp[0]), 2)\n",
    "    BankB_decision = round(float(resp[1]), 2)\n",
    "    BankC_decision = round(float(resp[2]), 2)\n",
    "    BankD_decision = round(float(resp[3]), 2)\n",
    "    BankE_decision = round(float(resp[4]), 2)\n",
    "    print(BankA_decision, BankB_decision, BankC_decision, BankD_decision, BankE_decision)\n"
   ]
  }
 ],
 "metadata": {
  "kernelspec": {
   "display_name": "Python 3",
   "language": "python",
   "name": "python3"
  },
  "language_info": {
   "codemirror_mode": {
    "name": "ipython",
    "version": 3
   },
   "file_extension": ".py",
   "mimetype": "text/x-python",
   "name": "python",
   "nbconvert_exporter": "python",
   "pygments_lexer": "ipython3",
   "version": "3.12.0"
  }
 },
 "nbformat": 4,
 "nbformat_minor": 2
}
